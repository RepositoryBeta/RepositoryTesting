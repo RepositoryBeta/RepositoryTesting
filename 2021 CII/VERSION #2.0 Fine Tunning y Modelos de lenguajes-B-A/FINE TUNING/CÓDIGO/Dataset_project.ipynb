{
  "nbformat": 4,
  "nbformat_minor": 0,
  "metadata": {
    "colab": {
      "name": "Dataset_project",
      "provenance": []
    },
    "kernelspec": {
      "name": "python3",
      "display_name": "Python 3"
    },
    "language_info": {
      "name": "python"
    }
  },
  "cells": [
    {
      "cell_type": "markdown",
      "source": [
        "Parte 1: Generación del conjunto de datos"
      ],
      "metadata": {
        "id": "YaccbUDpUuCf"
      }
    },
    {
      "cell_type": "code",
      "execution_count": 130,
      "metadata": {
        "id": "vy3ULKhFULDc"
      },
      "outputs": [],
      "source": [
        "import pandas as pd\n",
        "import numpy as np\n",
        "import unicodedata\n",
        "import re\n",
        "import os\n",
        "import csv\n",
        "import sklearn.metrics as metrics"
      ]
    },
    {
      "cell_type": "code",
      "source": [
        "!pip install transformers"
      ],
      "metadata": {
        "colab": {
          "base_uri": "https://localhost:8080/"
        },
        "id": "_v1KmqEugQb1",
        "outputId": "3efa6333-0ec1-4a45-f697-4d2f880e0efb"
      },
      "execution_count": 131,
      "outputs": [
        {
          "output_type": "stream",
          "name": "stdout",
          "text": [
            "Requirement already satisfied: transformers in /usr/local/lib/python3.7/dist-packages (4.15.0)\n",
            "Requirement already satisfied: pyyaml>=5.1 in /usr/local/lib/python3.7/dist-packages (from transformers) (6.0)\n",
            "Requirement already satisfied: tqdm>=4.27 in /usr/local/lib/python3.7/dist-packages (from transformers) (4.62.3)\n",
            "Requirement already satisfied: requests in /usr/local/lib/python3.7/dist-packages (from transformers) (2.23.0)\n",
            "Requirement already satisfied: packaging>=20.0 in /usr/local/lib/python3.7/dist-packages (from transformers) (21.3)\n",
            "Requirement already satisfied: importlib-metadata in /usr/local/lib/python3.7/dist-packages (from transformers) (4.10.0)\n",
            "Requirement already satisfied: filelock in /usr/local/lib/python3.7/dist-packages (from transformers) (3.4.2)\n",
            "Requirement already satisfied: sacremoses in /usr/local/lib/python3.7/dist-packages (from transformers) (0.0.47)\n",
            "Requirement already satisfied: huggingface-hub<1.0,>=0.1.0 in /usr/local/lib/python3.7/dist-packages (from transformers) (0.4.0)\n",
            "Requirement already satisfied: numpy>=1.17 in /usr/local/lib/python3.7/dist-packages (from transformers) (1.19.5)\n",
            "Requirement already satisfied: tokenizers<0.11,>=0.10.1 in /usr/local/lib/python3.7/dist-packages (from transformers) (0.10.3)\n",
            "Requirement already satisfied: regex!=2019.12.17 in /usr/local/lib/python3.7/dist-packages (from transformers) (2019.12.20)\n",
            "Requirement already satisfied: typing-extensions>=3.7.4.3 in /usr/local/lib/python3.7/dist-packages (from huggingface-hub<1.0,>=0.1.0->transformers) (3.10.0.2)\n",
            "Requirement already satisfied: pyparsing!=3.0.5,>=2.0.2 in /usr/local/lib/python3.7/dist-packages (from packaging>=20.0->transformers) (3.0.6)\n",
            "Requirement already satisfied: zipp>=0.5 in /usr/local/lib/python3.7/dist-packages (from importlib-metadata->transformers) (3.7.0)\n",
            "Requirement already satisfied: chardet<4,>=3.0.2 in /usr/local/lib/python3.7/dist-packages (from requests->transformers) (3.0.4)\n",
            "Requirement already satisfied: urllib3!=1.25.0,!=1.25.1,<1.26,>=1.21.1 in /usr/local/lib/python3.7/dist-packages (from requests->transformers) (1.24.3)\n",
            "Requirement already satisfied: idna<3,>=2.5 in /usr/local/lib/python3.7/dist-packages (from requests->transformers) (2.10)\n",
            "Requirement already satisfied: certifi>=2017.4.17 in /usr/local/lib/python3.7/dist-packages (from requests->transformers) (2021.10.8)\n",
            "Requirement already satisfied: six in /usr/local/lib/python3.7/dist-packages (from sacremoses->transformers) (1.15.0)\n",
            "Requirement already satisfied: click in /usr/local/lib/python3.7/dist-packages (from sacremoses->transformers) (7.1.2)\n",
            "Requirement already satisfied: joblib in /usr/local/lib/python3.7/dist-packages (from sacremoses->transformers) (1.1.0)\n"
          ]
        }
      ]
    },
    {
      "cell_type": "code",
      "source": [
        "tsv_file = open(\"/content/lcp_single_test.tsv\")\n",
        "read_tsv = csv.reader(tsv_file, delimiter=\"\\t\")"
      ],
      "metadata": {
        "id": "NQf7cVjEU74c"
      },
      "execution_count": 132,
      "outputs": []
    },
    {
      "cell_type": "code",
      "source": [
        "label = 1\n",
        "count = 0\n",
        "data_raw = pd.DataFrame(columns = range(5))\n",
        "for row in read_tsv:\n",
        "  if label == 1:\n",
        "    data_raw.columns = row\n",
        "    label = 0\n",
        "  else:\n",
        "    data_raw.loc[count] = [row[0], row[1], row[2], row[3], row[4]]\n",
        "    count += 1\n"
      ],
      "metadata": {
        "id": "KKnuDwWlVfl6"
      },
      "execution_count": 133,
      "outputs": []
    },
    {
      "cell_type": "code",
      "source": [
        "data_raw.head(10)"
      ],
      "metadata": {
        "colab": {
          "base_uri": "https://localhost:8080/",
          "height": 363
        },
        "id": "fXRfoX2QWRiI",
        "outputId": "196288a0-5e87-4b14-c82c-9ad8b79d1aa1"
      },
      "execution_count": 134,
      "outputs": [
        {
          "output_type": "execute_result",
          "data": {
            "text/html": [
              "\n",
              "  <div id=\"df-e1c59605-e6d4-4a76-ae6b-c36ae12cb912\">\n",
              "    <div class=\"colab-df-container\">\n",
              "      <div>\n",
              "<style scoped>\n",
              "    .dataframe tbody tr th:only-of-type {\n",
              "        vertical-align: middle;\n",
              "    }\n",
              "\n",
              "    .dataframe tbody tr th {\n",
              "        vertical-align: top;\n",
              "    }\n",
              "\n",
              "    .dataframe thead th {\n",
              "        text-align: right;\n",
              "    }\n",
              "</style>\n",
              "<table border=\"1\" class=\"dataframe\">\n",
              "  <thead>\n",
              "    <tr style=\"text-align: right;\">\n",
              "      <th></th>\n",
              "      <th>id</th>\n",
              "      <th>corpus</th>\n",
              "      <th>sentence</th>\n",
              "      <th>token</th>\n",
              "      <th>complexity</th>\n",
              "    </tr>\n",
              "  </thead>\n",
              "  <tbody>\n",
              "    <tr>\n",
              "      <th>0</th>\n",
              "      <td>3K8CQCU3KE19US5SN890DFPK3SANWR</td>\n",
              "      <td>bible</td>\n",
              "      <td>But he, beckoning to them with his hand to be ...</td>\n",
              "      <td>hand</td>\n",
              "      <td>0.0</td>\n",
              "    </tr>\n",
              "    <tr>\n",
              "      <th>1</th>\n",
              "      <td>3Q2T3FD0ON86LCI41NJYV3PN0BW3MV</td>\n",
              "      <td>bible</td>\n",
              "      <td>If I forget you, Jerusalem, let my right hand ...</td>\n",
              "      <td>hand</td>\n",
              "      <td>0.19736842105263158</td>\n",
              "    </tr>\n",
              "    <tr>\n",
              "      <th>2</th>\n",
              "      <td>3ULIZ0H1VA5C32JJMKOTQ8Z4GUS51B</td>\n",
              "      <td>bible</td>\n",
              "      <td>the ten sons of Haman the son of Hammedatha, t...</td>\n",
              "      <td>hand</td>\n",
              "      <td>0.2</td>\n",
              "    </tr>\n",
              "    <tr>\n",
              "      <th>3</th>\n",
              "      <td>3BFF0DJK8XCEIOT30ZLBPPSRMZQTSD</td>\n",
              "      <td>bible</td>\n",
              "      <td>Let your hand be lifted up above your adversar...</td>\n",
              "      <td>hand</td>\n",
              "      <td>0.2678571428571429</td>\n",
              "    </tr>\n",
              "    <tr>\n",
              "      <th>4</th>\n",
              "      <td>3QREJ3J433XSBS8QMHAICCR0BQ1LKR</td>\n",
              "      <td>bible</td>\n",
              "      <td>Abimelech chased him, and he fled before him, ...</td>\n",
              "      <td>entrance</td>\n",
              "      <td>0.0</td>\n",
              "    </tr>\n",
              "    <tr>\n",
              "      <th>5</th>\n",
              "      <td>30F94FBDNRKF12C1PDZGZ0IRI9XTB1</td>\n",
              "      <td>bible</td>\n",
              "      <td>for as he thinks about the cost, so he is.</td>\n",
              "      <td>cost</td>\n",
              "      <td>0.25</td>\n",
              "    </tr>\n",
              "    <tr>\n",
              "      <th>6</th>\n",
              "      <td>3JHB4BPSFK9JLT5CAPRP3PCEA2CQ9R</td>\n",
              "      <td>bible</td>\n",
              "      <td>When his armor bearer saw that Saul was dead, ...</td>\n",
              "      <td>armor</td>\n",
              "      <td>0.02777777777777779</td>\n",
              "    </tr>\n",
              "    <tr>\n",
              "      <th>7</th>\n",
              "      <td>3Y40HMYLL1I1EIURUEH8TTVLKQ9XUM</td>\n",
              "      <td>bible</td>\n",
              "      <td>Therefore put on the whole armor of God, that ...</td>\n",
              "      <td>armor</td>\n",
              "      <td>0.2</td>\n",
              "    </tr>\n",
              "    <tr>\n",
              "      <th>8</th>\n",
              "      <td>30Y6N4AHYPWV0KXTZKLRUB59XBPRDA</td>\n",
              "      <td>bible</td>\n",
              "      <td>Hezekiah listened to them, and showed them all...</td>\n",
              "      <td>armor</td>\n",
              "      <td>0.2222222222222222</td>\n",
              "    </tr>\n",
              "    <tr>\n",
              "      <th>9</th>\n",
              "      <td>38O9DZ0A62NFBR1TA7YCNXN94XN26F</td>\n",
              "      <td>bible</td>\n",
              "      <td>That first slaughter, which Jonathan and his a...</td>\n",
              "      <td>armor</td>\n",
              "      <td>0.3194444444444444</td>\n",
              "    </tr>\n",
              "  </tbody>\n",
              "</table>\n",
              "</div>\n",
              "      <button class=\"colab-df-convert\" onclick=\"convertToInteractive('df-e1c59605-e6d4-4a76-ae6b-c36ae12cb912')\"\n",
              "              title=\"Convert this dataframe to an interactive table.\"\n",
              "              style=\"display:none;\">\n",
              "        \n",
              "  <svg xmlns=\"http://www.w3.org/2000/svg\" height=\"24px\"viewBox=\"0 0 24 24\"\n",
              "       width=\"24px\">\n",
              "    <path d=\"M0 0h24v24H0V0z\" fill=\"none\"/>\n",
              "    <path d=\"M18.56 5.44l.94 2.06.94-2.06 2.06-.94-2.06-.94-.94-2.06-.94 2.06-2.06.94zm-11 1L8.5 8.5l.94-2.06 2.06-.94-2.06-.94L8.5 2.5l-.94 2.06-2.06.94zm10 10l.94 2.06.94-2.06 2.06-.94-2.06-.94-.94-2.06-.94 2.06-2.06.94z\"/><path d=\"M17.41 7.96l-1.37-1.37c-.4-.4-.92-.59-1.43-.59-.52 0-1.04.2-1.43.59L10.3 9.45l-7.72 7.72c-.78.78-.78 2.05 0 2.83L4 21.41c.39.39.9.59 1.41.59.51 0 1.02-.2 1.41-.59l7.78-7.78 2.81-2.81c.8-.78.8-2.07 0-2.86zM5.41 20L4 18.59l7.72-7.72 1.47 1.35L5.41 20z\"/>\n",
              "  </svg>\n",
              "      </button>\n",
              "      \n",
              "  <style>\n",
              "    .colab-df-container {\n",
              "      display:flex;\n",
              "      flex-wrap:wrap;\n",
              "      gap: 12px;\n",
              "    }\n",
              "\n",
              "    .colab-df-convert {\n",
              "      background-color: #E8F0FE;\n",
              "      border: none;\n",
              "      border-radius: 50%;\n",
              "      cursor: pointer;\n",
              "      display: none;\n",
              "      fill: #1967D2;\n",
              "      height: 32px;\n",
              "      padding: 0 0 0 0;\n",
              "      width: 32px;\n",
              "    }\n",
              "\n",
              "    .colab-df-convert:hover {\n",
              "      background-color: #E2EBFA;\n",
              "      box-shadow: 0px 1px 2px rgba(60, 64, 67, 0.3), 0px 1px 3px 1px rgba(60, 64, 67, 0.15);\n",
              "      fill: #174EA6;\n",
              "    }\n",
              "\n",
              "    [theme=dark] .colab-df-convert {\n",
              "      background-color: #3B4455;\n",
              "      fill: #D2E3FC;\n",
              "    }\n",
              "\n",
              "    [theme=dark] .colab-df-convert:hover {\n",
              "      background-color: #434B5C;\n",
              "      box-shadow: 0px 1px 3px 1px rgba(0, 0, 0, 0.15);\n",
              "      filter: drop-shadow(0px 1px 2px rgba(0, 0, 0, 0.3));\n",
              "      fill: #FFFFFF;\n",
              "    }\n",
              "  </style>\n",
              "\n",
              "      <script>\n",
              "        const buttonEl =\n",
              "          document.querySelector('#df-e1c59605-e6d4-4a76-ae6b-c36ae12cb912 button.colab-df-convert');\n",
              "        buttonEl.style.display =\n",
              "          google.colab.kernel.accessAllowed ? 'block' : 'none';\n",
              "\n",
              "        async function convertToInteractive(key) {\n",
              "          const element = document.querySelector('#df-e1c59605-e6d4-4a76-ae6b-c36ae12cb912');\n",
              "          const dataTable =\n",
              "            await google.colab.kernel.invokeFunction('convertToInteractive',\n",
              "                                                     [key], {});\n",
              "          if (!dataTable) return;\n",
              "\n",
              "          const docLinkHtml = 'Like what you see? Visit the ' +\n",
              "            '<a target=\"_blank\" href=https://colab.research.google.com/notebooks/data_table.ipynb>data table notebook</a>'\n",
              "            + ' to learn more about interactive tables.';\n",
              "          element.innerHTML = '';\n",
              "          dataTable['output_type'] = 'display_data';\n",
              "          await google.colab.output.renderOutput(dataTable, element);\n",
              "          const docLink = document.createElement('div');\n",
              "          docLink.innerHTML = docLinkHtml;\n",
              "          element.appendChild(docLink);\n",
              "        }\n",
              "      </script>\n",
              "    </div>\n",
              "  </div>\n",
              "  "
            ],
            "text/plain": [
              "                               id corpus  ...     token           complexity\n",
              "0  3K8CQCU3KE19US5SN890DFPK3SANWR  bible  ...      hand                  0.0\n",
              "1  3Q2T3FD0ON86LCI41NJYV3PN0BW3MV  bible  ...      hand  0.19736842105263158\n",
              "2  3ULIZ0H1VA5C32JJMKOTQ8Z4GUS51B  bible  ...      hand                  0.2\n",
              "3  3BFF0DJK8XCEIOT30ZLBPPSRMZQTSD  bible  ...      hand   0.2678571428571429\n",
              "4  3QREJ3J433XSBS8QMHAICCR0BQ1LKR  bible  ...  entrance                  0.0\n",
              "5  30F94FBDNRKF12C1PDZGZ0IRI9XTB1  bible  ...      cost                 0.25\n",
              "6  3JHB4BPSFK9JLT5CAPRP3PCEA2CQ9R  bible  ...     armor  0.02777777777777779\n",
              "7  3Y40HMYLL1I1EIURUEH8TTVLKQ9XUM  bible  ...     armor                  0.2\n",
              "8  30Y6N4AHYPWV0KXTZKLRUB59XBPRDA  bible  ...     armor   0.2222222222222222\n",
              "9  38O9DZ0A62NFBR1TA7YCNXN94XN26F  bible  ...     armor   0.3194444444444444\n",
              "\n",
              "[10 rows x 5 columns]"
            ]
          },
          "metadata": {},
          "execution_count": 134
        }
      ]
    },
    {
      "cell_type": "code",
      "source": [
        "data = pd.DataFrame(columns=['text', 'complexity'])\n",
        "count = 0\n",
        "for i in range(0, data_raw.shape[0]):\n",
        "  data.loc[count] = [data_raw['sentence'][count].lower() + ' [SEP] ' + data_raw['token'][count].lower(), \\\n",
        "                    data_raw['complexity'][count]]\n",
        "  count += 1\n"
      ],
      "metadata": {
        "id": "izFWNt9MctXQ"
      },
      "execution_count": 135,
      "outputs": []
    },
    {
      "cell_type": "code",
      "source": [
        "data['text'][0]"
      ],
      "metadata": {
        "colab": {
          "base_uri": "https://localhost:8080/",
          "height": 35
        },
        "id": "YXTDck9iXt96",
        "outputId": "66c6965d-f397-4944-f456-9da39443e763"
      },
      "execution_count": 138,
      "outputs": [
        {
          "output_type": "execute_result",
          "data": {
            "application/vnd.google.colaboratory.intrinsic+json": {
              "type": "string"
            },
            "text/plain": [
              "'but he, beckoning to them with his hand to be silent, declared to them how the lord had brought him out of the prison. [SEP] hand'"
            ]
          },
          "metadata": {},
          "execution_count": 138
        }
      ]
    },
    {
      "cell_type": "code",
      "source": [
        "from transformers import BertTokenizer\n",
        "tokenizer = BertTokenizer.from_pretrained('bert-large-uncased')"
      ],
      "metadata": {
        "id": "tJuDaxx9g5VI"
      },
      "execution_count": 139,
      "outputs": []
    },
    {
      "cell_type": "code",
      "source": [
        ""
      ],
      "metadata": {
        "id": "HJwDlkAkHEZ3"
      },
      "execution_count": null,
      "outputs": []
    },
    {
      "cell_type": "code",
      "source": [
        "# Preprocess, tokenize and vectorize texts and labels\n",
        "def vectorize_text(s, max_length):\n",
        "\n",
        "    # Unicode normalization\n",
        "    s = s.strip().lower()\n",
        "    s = ''.join(c for c in unicodedata.normalize('NFD', s) if unicodedata.category(c) != 'Mn')\n",
        "\n",
        "    # Remove undesired characters\n",
        "    s = re.sub(r'([.¿?()\\'\",;:$€])', r' \\1 ', s)\n",
        "    s = re.sub(r\"[^a-zA-Záéíóú.,!?;:()$€]+\", r\" \", s)\n",
        "\n",
        "    # Text to tensor\n",
        "    input_ids = tokenizer.encode(\n",
        "      s,\n",
        "      add_special_tokens=True,\n",
        "      max_length=max_length,\n",
        "      padding='longest', \n",
        "      truncation=True,\n",
        "      return_tensors='np'\n",
        "    )\n",
        "    return input_ids[0]"
      ],
      "metadata": {
        "id": "8wTaZtYWhKDn"
      },
      "execution_count": null,
      "outputs": []
    },
    {
      "cell_type": "code",
      "source": [
        "data['text_vec'] = data.apply(lambda r: vectorize_text(r['text'], 512), axis=1)"
      ],
      "metadata": {
        "id": "gQnOaVUoizO0"
      },
      "execution_count": 141,
      "outputs": []
    },
    {
      "cell_type": "code",
      "source": [
        "data"
      ],
      "metadata": {
        "colab": {
          "base_uri": "https://localhost:8080/",
          "height": 423
        },
        "id": "WiMOeuh_i4ET",
        "outputId": "aa34177d-ce51-4aca-e039-64f47bce654d"
      },
      "execution_count": 142,
      "outputs": [
        {
          "output_type": "execute_result",
          "data": {
            "text/html": [
              "\n",
              "  <div id=\"df-71e45624-87e9-432b-8aec-15631b9fa67a\">\n",
              "    <div class=\"colab-df-container\">\n",
              "      <div>\n",
              "<style scoped>\n",
              "    .dataframe tbody tr th:only-of-type {\n",
              "        vertical-align: middle;\n",
              "    }\n",
              "\n",
              "    .dataframe tbody tr th {\n",
              "        vertical-align: top;\n",
              "    }\n",
              "\n",
              "    .dataframe thead th {\n",
              "        text-align: right;\n",
              "    }\n",
              "</style>\n",
              "<table border=\"1\" class=\"dataframe\">\n",
              "  <thead>\n",
              "    <tr style=\"text-align: right;\">\n",
              "      <th></th>\n",
              "      <th>text</th>\n",
              "      <th>complexity</th>\n",
              "      <th>text_vec</th>\n",
              "    </tr>\n",
              "  </thead>\n",
              "  <tbody>\n",
              "    <tr>\n",
              "      <th>0</th>\n",
              "      <td>but he, beckoning to them with his hand to be ...</td>\n",
              "      <td>0.0</td>\n",
              "      <td>[101, 2021, 2002, 1010, 10272, 13369, 2000, 20...</td>\n",
              "    </tr>\n",
              "    <tr>\n",
              "      <th>1</th>\n",
              "      <td>if i forget you, jerusalem, let my right hand ...</td>\n",
              "      <td>0.19736842105263158</td>\n",
              "      <td>[101, 2065, 1045, 5293, 2017, 1010, 6744, 1010...</td>\n",
              "    </tr>\n",
              "    <tr>\n",
              "      <th>2</th>\n",
              "      <td>the ten sons of haman the son of hammedatha, t...</td>\n",
              "      <td>0.2</td>\n",
              "      <td>[101, 1996, 2702, 4124, 1997, 10654, 2319, 199...</td>\n",
              "    </tr>\n",
              "    <tr>\n",
              "      <th>3</th>\n",
              "      <td>let your hand be lifted up above your adversar...</td>\n",
              "      <td>0.2678571428571429</td>\n",
              "      <td>[101, 2292, 2115, 2192, 2022, 4196, 2039, 2682...</td>\n",
              "    </tr>\n",
              "    <tr>\n",
              "      <th>4</th>\n",
              "      <td>abimelech chased him, and he fled before him, ...</td>\n",
              "      <td>0.0</td>\n",
              "      <td>[101, 11113, 14428, 2571, 2818, 13303, 2032, 1...</td>\n",
              "    </tr>\n",
              "    <tr>\n",
              "      <th>...</th>\n",
              "      <td>...</td>\n",
              "      <td>...</td>\n",
              "      <td>...</td>\n",
              "    </tr>\n",
              "    <tr>\n",
              "      <th>882</th>\n",
              "      <td>the report by mr philippe busquin, on behalf o...</td>\n",
              "      <td>0.5694444444444444</td>\n",
              "      <td>[101, 1996, 3189, 2011, 2720, 11169, 3902, 125...</td>\n",
              "    </tr>\n",
              "    <tr>\n",
              "      <th>883</th>\n",
              "      <td>section v - court of auditors (sec(2002) 405 -...</td>\n",
              "      <td>0.5357142857142857</td>\n",
              "      <td>[101, 2930, 1058, 2457, 1997, 20964, 2015, 100...</td>\n",
              "    </tr>\n",
              "    <tr>\n",
              "      <th>884</th>\n",
              "      <td>- mr president, on 1 june, on the basis of inf...</td>\n",
              "      <td>0.546875</td>\n",
              "      <td>[101, 2720, 2343, 1010, 2006, 2238, 1010, 2006...</td>\n",
              "    </tr>\n",
              "    <tr>\n",
              "      <th>885</th>\n",
              "      <td>i would like to extend a warm welcome to this ...</td>\n",
              "      <td>0.5714285714285714</td>\n",
              "      <td>[101, 1045, 2052, 2066, 2000, 7949, 1037, 4010...</td>\n",
              "    </tr>\n",
              "    <tr>\n",
              "      <th>886</th>\n",
              "      <td>amongst the associations that contacted me was...</td>\n",
              "      <td>0.5833333333333334</td>\n",
              "      <td>[101, 5921, 1996, 8924, 2008, 11925, 2033, 200...</td>\n",
              "    </tr>\n",
              "  </tbody>\n",
              "</table>\n",
              "<p>887 rows × 3 columns</p>\n",
              "</div>\n",
              "      <button class=\"colab-df-convert\" onclick=\"convertToInteractive('df-71e45624-87e9-432b-8aec-15631b9fa67a')\"\n",
              "              title=\"Convert this dataframe to an interactive table.\"\n",
              "              style=\"display:none;\">\n",
              "        \n",
              "  <svg xmlns=\"http://www.w3.org/2000/svg\" height=\"24px\"viewBox=\"0 0 24 24\"\n",
              "       width=\"24px\">\n",
              "    <path d=\"M0 0h24v24H0V0z\" fill=\"none\"/>\n",
              "    <path d=\"M18.56 5.44l.94 2.06.94-2.06 2.06-.94-2.06-.94-.94-2.06-.94 2.06-2.06.94zm-11 1L8.5 8.5l.94-2.06 2.06-.94-2.06-.94L8.5 2.5l-.94 2.06-2.06.94zm10 10l.94 2.06.94-2.06 2.06-.94-2.06-.94-.94-2.06-.94 2.06-2.06.94z\"/><path d=\"M17.41 7.96l-1.37-1.37c-.4-.4-.92-.59-1.43-.59-.52 0-1.04.2-1.43.59L10.3 9.45l-7.72 7.72c-.78.78-.78 2.05 0 2.83L4 21.41c.39.39.9.59 1.41.59.51 0 1.02-.2 1.41-.59l7.78-7.78 2.81-2.81c.8-.78.8-2.07 0-2.86zM5.41 20L4 18.59l7.72-7.72 1.47 1.35L5.41 20z\"/>\n",
              "  </svg>\n",
              "      </button>\n",
              "      \n",
              "  <style>\n",
              "    .colab-df-container {\n",
              "      display:flex;\n",
              "      flex-wrap:wrap;\n",
              "      gap: 12px;\n",
              "    }\n",
              "\n",
              "    .colab-df-convert {\n",
              "      background-color: #E8F0FE;\n",
              "      border: none;\n",
              "      border-radius: 50%;\n",
              "      cursor: pointer;\n",
              "      display: none;\n",
              "      fill: #1967D2;\n",
              "      height: 32px;\n",
              "      padding: 0 0 0 0;\n",
              "      width: 32px;\n",
              "    }\n",
              "\n",
              "    .colab-df-convert:hover {\n",
              "      background-color: #E2EBFA;\n",
              "      box-shadow: 0px 1px 2px rgba(60, 64, 67, 0.3), 0px 1px 3px 1px rgba(60, 64, 67, 0.15);\n",
              "      fill: #174EA6;\n",
              "    }\n",
              "\n",
              "    [theme=dark] .colab-df-convert {\n",
              "      background-color: #3B4455;\n",
              "      fill: #D2E3FC;\n",
              "    }\n",
              "\n",
              "    [theme=dark] .colab-df-convert:hover {\n",
              "      background-color: #434B5C;\n",
              "      box-shadow: 0px 1px 3px 1px rgba(0, 0, 0, 0.15);\n",
              "      filter: drop-shadow(0px 1px 2px rgba(0, 0, 0, 0.3));\n",
              "      fill: #FFFFFF;\n",
              "    }\n",
              "  </style>\n",
              "\n",
              "      <script>\n",
              "        const buttonEl =\n",
              "          document.querySelector('#df-71e45624-87e9-432b-8aec-15631b9fa67a button.colab-df-convert');\n",
              "        buttonEl.style.display =\n",
              "          google.colab.kernel.accessAllowed ? 'block' : 'none';\n",
              "\n",
              "        async function convertToInteractive(key) {\n",
              "          const element = document.querySelector('#df-71e45624-87e9-432b-8aec-15631b9fa67a');\n",
              "          const dataTable =\n",
              "            await google.colab.kernel.invokeFunction('convertToInteractive',\n",
              "                                                     [key], {});\n",
              "          if (!dataTable) return;\n",
              "\n",
              "          const docLinkHtml = 'Like what you see? Visit the ' +\n",
              "            '<a target=\"_blank\" href=https://colab.research.google.com/notebooks/data_table.ipynb>data table notebook</a>'\n",
              "            + ' to learn more about interactive tables.';\n",
              "          element.innerHTML = '';\n",
              "          dataTable['output_type'] = 'display_data';\n",
              "          await google.colab.output.renderOutput(dataTable, element);\n",
              "          const docLink = document.createElement('div');\n",
              "          docLink.innerHTML = docLinkHtml;\n",
              "          element.appendChild(docLink);\n",
              "        }\n",
              "      </script>\n",
              "    </div>\n",
              "  </div>\n",
              "  "
            ],
            "text/plain": [
              "                                                  text  ...                                           text_vec\n",
              "0    but he, beckoning to them with his hand to be ...  ...  [101, 2021, 2002, 1010, 10272, 13369, 2000, 20...\n",
              "1    if i forget you, jerusalem, let my right hand ...  ...  [101, 2065, 1045, 5293, 2017, 1010, 6744, 1010...\n",
              "2    the ten sons of haman the son of hammedatha, t...  ...  [101, 1996, 2702, 4124, 1997, 10654, 2319, 199...\n",
              "3    let your hand be lifted up above your adversar...  ...  [101, 2292, 2115, 2192, 2022, 4196, 2039, 2682...\n",
              "4    abimelech chased him, and he fled before him, ...  ...  [101, 11113, 14428, 2571, 2818, 13303, 2032, 1...\n",
              "..                                                 ...  ...                                                ...\n",
              "882  the report by mr philippe busquin, on behalf o...  ...  [101, 1996, 3189, 2011, 2720, 11169, 3902, 125...\n",
              "883  section v - court of auditors (sec(2002) 405 -...  ...  [101, 2930, 1058, 2457, 1997, 20964, 2015, 100...\n",
              "884  - mr president, on 1 june, on the basis of inf...  ...  [101, 2720, 2343, 1010, 2006, 2238, 1010, 2006...\n",
              "885  i would like to extend a warm welcome to this ...  ...  [101, 1045, 2052, 2066, 2000, 7949, 1037, 4010...\n",
              "886  amongst the associations that contacted me was...  ...  [101, 5921, 1996, 8924, 2008, 11925, 2033, 200...\n",
              "\n",
              "[887 rows x 3 columns]"
            ]
          },
          "metadata": {},
          "execution_count": 142
        }
      ]
    },
    {
      "cell_type": "code",
      "source": [
        "# Separar los conjuntos de datos\n",
        "data = data.sample(frac=1)\n",
        "train_portion = 0.9\n",
        "split_point = int(train_portion*len(data))\n",
        "train_data, test_data =  data[:split_point], data[split_point:] \n",
        "print(len(train_data), 'train, ', len(test_data), 'test')"
      ],
      "metadata": {
        "colab": {
          "base_uri": "https://localhost:8080/"
        },
        "id": "IOKx_G7oX6rM",
        "outputId": "aa81b6a0-539e-42c9-aefc-8cad83003433"
      },
      "execution_count": 143,
      "outputs": [
        {
          "output_type": "stream",
          "name": "stdout",
          "text": [
            "798 train,  89 test\n"
          ]
        }
      ]
    },
    {
      "cell_type": "code",
      "source": [
        "#Create dataset en pytorch\n",
        "from torch.utils.data import Dataset, DataLoader\n",
        "import torch\n",
        "\n",
        "class OffendEs(Dataset):\n",
        "    def __init__(self, dataframe):\n",
        "        self.len = len(dataframe)\n",
        "        self.data = dataframe\n",
        "        \n",
        "    def __getitem__(self, index):\n",
        "        input_ids = torch.tensor(self.data.text_vec.iloc[index]).cpu()\n",
        "        attention_mask = torch.ones([input_ids.size(0)]).cpu()\n",
        "        targets = self.data.complexity.iloc[index]\n",
        "        return {\n",
        "            'input_ids': input_ids,\n",
        "            'attention_mask': attention_mask,\n",
        "            'targets': targets\n",
        "         }\n",
        "            \n",
        "    def __len__(self):\n",
        "        return self.len"
      ],
      "metadata": {
        "id": "jUwrTWB8YUFs"
      },
      "execution_count": 144,
      "outputs": []
    },
    {
      "cell_type": "code",
      "source": [
        "train_set, test_set = OffendEs(train_data), OffendEs(test_data)"
      ],
      "metadata": {
        "id": "B6bYxQ2pbxd2"
      },
      "execution_count": 145,
      "outputs": []
    },
    {
      "cell_type": "code",
      "source": [
        "train_set.data"
      ],
      "metadata": {
        "id": "GmtU42yIcSrP",
        "colab": {
          "base_uri": "https://localhost:8080/",
          "height": 423
        },
        "outputId": "9c97c579-0d0c-40b9-c4a4-3e62a787046b"
      },
      "execution_count": 148,
      "outputs": [
        {
          "output_type": "execute_result",
          "data": {
            "text/html": [
              "\n",
              "  <div id=\"df-5f39d279-6fdd-4b71-be0f-ae615aa3f598\">\n",
              "    <div class=\"colab-df-container\">\n",
              "      <div>\n",
              "<style scoped>\n",
              "    .dataframe tbody tr th:only-of-type {\n",
              "        vertical-align: middle;\n",
              "    }\n",
              "\n",
              "    .dataframe tbody tr th {\n",
              "        vertical-align: top;\n",
              "    }\n",
              "\n",
              "    .dataframe thead th {\n",
              "        text-align: right;\n",
              "    }\n",
              "</style>\n",
              "<table border=\"1\" class=\"dataframe\">\n",
              "  <thead>\n",
              "    <tr style=\"text-align: right;\">\n",
              "      <th></th>\n",
              "      <th>text</th>\n",
              "      <th>complexity</th>\n",
              "      <th>text_vec</th>\n",
              "    </tr>\n",
              "  </thead>\n",
              "  <tbody>\n",
              "    <tr>\n",
              "      <th>586</th>\n",
              "      <td>when these issues are being discussed, parliam...</td>\n",
              "      <td>0.3055555555555556</td>\n",
              "      <td>[101, 2043, 2122, 3314, 2024, 2108, 6936, 1010...</td>\n",
              "    </tr>\n",
              "    <tr>\n",
              "      <th>300</th>\n",
              "      <td>their phenotypic features are very similar to ...</td>\n",
              "      <td>0.33333333333333337</td>\n",
              "      <td>[101, 2037, 6887, 16515, 23186, 2838, 2024, 22...</td>\n",
              "    </tr>\n",
              "    <tr>\n",
              "      <th>500</th>\n",
              "      <td>the cause of goiter appears to be an impairmen...</td>\n",
              "      <td>0.43181818181818177</td>\n",
              "      <td>[101, 1996, 3426, 1997, 2175, 21646, 3544, 200...</td>\n",
              "    </tr>\n",
              "    <tr>\n",
              "      <th>54</th>\n",
              "      <td>these are those who went over the jordan in th...</td>\n",
              "      <td>0.21052631578947367</td>\n",
              "      <td>[101, 2122, 2024, 2216, 2040, 2253, 2058, 1996...</td>\n",
              "    </tr>\n",
              "    <tr>\n",
              "      <th>540</th>\n",
              "      <td>many of these dimorphisms affect somatic cells...</td>\n",
              "      <td>0.75</td>\n",
              "      <td>[101, 2116, 1997, 2122, 11737, 2953, 21850, 19...</td>\n",
              "    </tr>\n",
              "    <tr>\n",
              "      <th>...</th>\n",
              "      <td>...</td>\n",
              "      <td>...</td>\n",
              "      <td>...</td>\n",
              "    </tr>\n",
              "    <tr>\n",
              "      <th>656</th>\n",
              "      <td>the next item is the report by iles braghetto,...</td>\n",
              "      <td>0.31666666666666665</td>\n",
              "      <td>[101, 1996, 2279, 8875, 2003, 1996, 3189, 2011...</td>\n",
              "    </tr>\n",
              "    <tr>\n",
              "      <th>617</th>\n",
              "      <td>- (pl) madam president, commissioner, with thi...</td>\n",
              "      <td>0.25</td>\n",
              "      <td>[101, 1006, 20228, 1007, 21658, 2343, 1010, 58...</td>\n",
              "    </tr>\n",
              "    <tr>\n",
              "      <th>196</th>\n",
              "      <td>after him, nehemiah the son of azbuk, the rule...</td>\n",
              "      <td>0.32894736842105265</td>\n",
              "      <td>[101, 2044, 2032, 1010, 11265, 29122, 12215, 1...</td>\n",
              "    </tr>\n",
              "    <tr>\n",
              "      <th>445</th>\n",
              "      <td>we observe sam68 staining in the brain, heart,...</td>\n",
              "      <td>0.3382352941176471</td>\n",
              "      <td>[101, 2057, 11949, 3520, 21101, 2075, 1999, 19...</td>\n",
              "    </tr>\n",
              "    <tr>\n",
              "      <th>884</th>\n",
              "      <td>- mr president, on 1 june, on the basis of inf...</td>\n",
              "      <td>0.546875</td>\n",
              "      <td>[101, 2720, 2343, 1010, 2006, 2238, 1010, 2006...</td>\n",
              "    </tr>\n",
              "  </tbody>\n",
              "</table>\n",
              "<p>798 rows × 3 columns</p>\n",
              "</div>\n",
              "      <button class=\"colab-df-convert\" onclick=\"convertToInteractive('df-5f39d279-6fdd-4b71-be0f-ae615aa3f598')\"\n",
              "              title=\"Convert this dataframe to an interactive table.\"\n",
              "              style=\"display:none;\">\n",
              "        \n",
              "  <svg xmlns=\"http://www.w3.org/2000/svg\" height=\"24px\"viewBox=\"0 0 24 24\"\n",
              "       width=\"24px\">\n",
              "    <path d=\"M0 0h24v24H0V0z\" fill=\"none\"/>\n",
              "    <path d=\"M18.56 5.44l.94 2.06.94-2.06 2.06-.94-2.06-.94-.94-2.06-.94 2.06-2.06.94zm-11 1L8.5 8.5l.94-2.06 2.06-.94-2.06-.94L8.5 2.5l-.94 2.06-2.06.94zm10 10l.94 2.06.94-2.06 2.06-.94-2.06-.94-.94-2.06-.94 2.06-2.06.94z\"/><path d=\"M17.41 7.96l-1.37-1.37c-.4-.4-.92-.59-1.43-.59-.52 0-1.04.2-1.43.59L10.3 9.45l-7.72 7.72c-.78.78-.78 2.05 0 2.83L4 21.41c.39.39.9.59 1.41.59.51 0 1.02-.2 1.41-.59l7.78-7.78 2.81-2.81c.8-.78.8-2.07 0-2.86zM5.41 20L4 18.59l7.72-7.72 1.47 1.35L5.41 20z\"/>\n",
              "  </svg>\n",
              "      </button>\n",
              "      \n",
              "  <style>\n",
              "    .colab-df-container {\n",
              "      display:flex;\n",
              "      flex-wrap:wrap;\n",
              "      gap: 12px;\n",
              "    }\n",
              "\n",
              "    .colab-df-convert {\n",
              "      background-color: #E8F0FE;\n",
              "      border: none;\n",
              "      border-radius: 50%;\n",
              "      cursor: pointer;\n",
              "      display: none;\n",
              "      fill: #1967D2;\n",
              "      height: 32px;\n",
              "      padding: 0 0 0 0;\n",
              "      width: 32px;\n",
              "    }\n",
              "\n",
              "    .colab-df-convert:hover {\n",
              "      background-color: #E2EBFA;\n",
              "      box-shadow: 0px 1px 2px rgba(60, 64, 67, 0.3), 0px 1px 3px 1px rgba(60, 64, 67, 0.15);\n",
              "      fill: #174EA6;\n",
              "    }\n",
              "\n",
              "    [theme=dark] .colab-df-convert {\n",
              "      background-color: #3B4455;\n",
              "      fill: #D2E3FC;\n",
              "    }\n",
              "\n",
              "    [theme=dark] .colab-df-convert:hover {\n",
              "      background-color: #434B5C;\n",
              "      box-shadow: 0px 1px 3px 1px rgba(0, 0, 0, 0.15);\n",
              "      filter: drop-shadow(0px 1px 2px rgba(0, 0, 0, 0.3));\n",
              "      fill: #FFFFFF;\n",
              "    }\n",
              "  </style>\n",
              "\n",
              "      <script>\n",
              "        const buttonEl =\n",
              "          document.querySelector('#df-5f39d279-6fdd-4b71-be0f-ae615aa3f598 button.colab-df-convert');\n",
              "        buttonEl.style.display =\n",
              "          google.colab.kernel.accessAllowed ? 'block' : 'none';\n",
              "\n",
              "        async function convertToInteractive(key) {\n",
              "          const element = document.querySelector('#df-5f39d279-6fdd-4b71-be0f-ae615aa3f598');\n",
              "          const dataTable =\n",
              "            await google.colab.kernel.invokeFunction('convertToInteractive',\n",
              "                                                     [key], {});\n",
              "          if (!dataTable) return;\n",
              "\n",
              "          const docLinkHtml = 'Like what you see? Visit the ' +\n",
              "            '<a target=\"_blank\" href=https://colab.research.google.com/notebooks/data_table.ipynb>data table notebook</a>'\n",
              "            + ' to learn more about interactive tables.';\n",
              "          element.innerHTML = '';\n",
              "          dataTable['output_type'] = 'display_data';\n",
              "          await google.colab.output.renderOutput(dataTable, element);\n",
              "          const docLink = document.createElement('div');\n",
              "          docLink.innerHTML = docLinkHtml;\n",
              "          element.appendChild(docLink);\n",
              "        }\n",
              "      </script>\n",
              "    </div>\n",
              "  </div>\n",
              "  "
            ],
            "text/plain": [
              "                                                  text  ...                                           text_vec\n",
              "586  when these issues are being discussed, parliam...  ...  [101, 2043, 2122, 3314, 2024, 2108, 6936, 1010...\n",
              "300  their phenotypic features are very similar to ...  ...  [101, 2037, 6887, 16515, 23186, 2838, 2024, 22...\n",
              "500  the cause of goiter appears to be an impairmen...  ...  [101, 1996, 3426, 1997, 2175, 21646, 3544, 200...\n",
              "54   these are those who went over the jordan in th...  ...  [101, 2122, 2024, 2216, 2040, 2253, 2058, 1996...\n",
              "540  many of these dimorphisms affect somatic cells...  ...  [101, 2116, 1997, 2122, 11737, 2953, 21850, 19...\n",
              "..                                                 ...  ...                                                ...\n",
              "656  the next item is the report by iles braghetto,...  ...  [101, 1996, 2279, 8875, 2003, 1996, 3189, 2011...\n",
              "617  - (pl) madam president, commissioner, with thi...  ...  [101, 1006, 20228, 1007, 21658, 2343, 1010, 58...\n",
              "196  after him, nehemiah the son of azbuk, the rule...  ...  [101, 2044, 2032, 1010, 11265, 29122, 12215, 1...\n",
              "445  we observe sam68 staining in the brain, heart,...  ...  [101, 2057, 11949, 3520, 21101, 2075, 1999, 19...\n",
              "884  - mr president, on 1 june, on the basis of inf...  ...  [101, 2720, 2343, 1010, 2006, 2238, 1010, 2006...\n",
              "\n",
              "[798 rows x 3 columns]"
            ]
          },
          "metadata": {},
          "execution_count": 148
        }
      ]
    },
    {
      "cell_type": "code",
      "source": [
        "train_set"
      ],
      "metadata": {
        "colab": {
          "base_uri": "https://localhost:8080/"
        },
        "id": "Z47eoBQvcg9w",
        "outputId": "f4437e03-90b7-4cf1-c25f-08c771465d22"
      },
      "execution_count": 147,
      "outputs": [
        {
          "output_type": "execute_result",
          "data": {
            "text/plain": [
              "<__main__.OffendEs at 0x7fa4b16b2790>"
            ]
          },
          "metadata": {},
          "execution_count": 147
        }
      ]
    },
    {
      "cell_type": "code",
      "source": [
        "len(train_set)\n",
        "#len(test_set)"
      ],
      "metadata": {
        "colab": {
          "base_uri": "https://localhost:8080/"
        },
        "id": "ackvGOxjbzIu",
        "outputId": "e2ca67ad-592f-4f21-c523-701c1f5d3a86"
      },
      "execution_count": null,
      "outputs": [
        {
          "output_type": "execute_result",
          "data": {
            "text/plain": [
              "798"
            ]
          },
          "metadata": {},
          "execution_count": 121
        }
      ]
    },
    {
      "cell_type": "code",
      "source": [
        "def collate_batch(batch):\n",
        "    \"\"\" Optimize memory by setting all vectors in batch to a length equal to max\n",
        "        length found\n",
        "    \"\"\"\n",
        "    \n",
        "    def pad_sequence(in_tensor, max_size):\n",
        "        \"\"\" Fill tensor with zeros up to max_size\n",
        "        \"\"\"\n",
        "        out_tensor = np.zeros(max_size)\n",
        "        out_tensor[:in_tensor.size(0)] = in_tensor.numpy()\n",
        "        return out_tensor\n",
        "    \n",
        "    batch_inputs = []\n",
        "    batch_attention_masks = []\n",
        "    batch_targets = []\n",
        "\n",
        "    max_size = max([ex['input_ids'].size(0) for ex in batch])\n",
        "    for item in batch:\n",
        "        batch_inputs.append(pad_sequence(item['input_ids'], max_size))\n",
        "        batch_attention_masks.append(pad_sequence(item['attention_mask'], max_size))\n",
        "        batch_targets.append(item['targets'])\n",
        "    return {\n",
        "        \"input_ids\": torch.tensor(batch_inputs, dtype=torch.long),\n",
        "        \"attention_mask\": torch.tensor(batch_attention_masks, dtype=torch.long),\n",
        "        \"targets\": torch.tensor(batch_targets, dtype=torch.long)\n",
        "    }"
      ],
      "metadata": {
        "id": "j9tmqYmbcDCD"
      },
      "execution_count": null,
      "outputs": []
    }
  ]
}